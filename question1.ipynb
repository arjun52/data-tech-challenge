{
 "cells": [
  {
   "cell_type": "code",
   "id": "initial_id",
   "metadata": {
    "collapsed": true,
    "ExecuteTime": {
     "end_time": "2025-08-17T16:32:15.008204Z",
     "start_time": "2025-08-17T16:32:15.003224Z"
    }
   },
   "source": [
    "# imports\n",
    "import pandas as pd\n",
    "import geopandas as gpd\n",
    "\n",
    "\n"
   ],
   "outputs": [],
   "execution_count": 1
  },
  {
   "metadata": {
    "ExecuteTime": {
     "end_time": "2025-08-17T16:32:15.068807Z",
     "start_time": "2025-08-17T16:32:15.046961Z"
    }
   },
   "cell_type": "code",
   "source": [
    "# load data\n",
    "df = pd.read_csv('data/AeroConnectData.csv')"
   ],
   "id": "4696315145d69b6",
   "outputs": [],
   "execution_count": 2
  },
  {
   "metadata": {
    "ExecuteTime": {
     "end_time": "2025-08-17T16:33:20.437344Z",
     "start_time": "2025-08-17T16:33:20.431912Z"
    }
   },
   "cell_type": "code",
   "source": [
    "# streamline data so it has route column\n",
    "df['Route'] = df['AustralianPort'] + ' <-> ' + df['ForeignPort'] + ' (' + df['Country'] + ')'\n"
   ],
   "id": "4375e4d2708da959",
   "outputs": [],
   "execution_count": 3
  },
  {
   "metadata": {
    "ExecuteTime": {
     "end_time": "2025-08-17T16:38:54.307851Z",
     "start_time": "2025-08-17T16:38:54.298309Z"
    }
   },
   "cell_type": "code",
   "source": [
    "# 1a: most trafficked routes\n",
    "numRoutes = 10\n",
    "top_routes_passengers = df.groupby('Route')['Passengers_Total'].sum().sort_values(ascending=False).head(numRoutes)\n",
    "top_routes_freight = df.groupby('Route')['Freight_Total_(tonnes)'].sum().sort_values(ascending=False).head(numRoutes)\n",
    "top_routes_mail = df.groupby('Route')['Mail_Total_(tonnes)'].sum().sort_values(ascending=False).head(numRoutes)\n",
    "print(\"top passenger routes\")\n",
    "print(top_routes_passengers)\n",
    "print(\"top freight routes\")\n",
    "print(top_routes_freight)\n",
    "print(\"top mail routes\")\n",
    "print(top_routes_mail)"
   ],
   "id": "3c30bbba843e20fb",
   "outputs": [
    {
     "name": "stdout",
     "output_type": "stream",
     "text": [
      "top passenger routes\n",
      "Route\n",
      "Sydney <-> Auckland (New Zealand)        2961212\n",
      "Sydney <-> Singapore (Singapore)         1440018\n",
      "Sydney <-> Tokyo (Japan)                 1292116\n",
      "Sydney <-> Hong Kong (Hong Kong)         1151900\n",
      "Perth <-> Singapore (Singapore)           952926\n",
      "Brisbane <-> Auckland (New Zealand)       893246\n",
      "Sydney <-> Christchurch (New Zealand)     882357\n",
      "Melbourne <-> Singapore (Singapore)       865251\n",
      "Sydney <-> Los Angeles (USA)              862964\n",
      "Sydney <-> Honolulu (USA)                 861814\n",
      "Name: Passengers_Total, dtype: int64\n",
      "top freight routes\n",
      "Route\n",
      "Sydney <-> Auckland (New Zealand)       126712.789\n",
      "Sydney <-> Tokyo (Japan)                 79155.928\n",
      "Sydney <-> Singapore (Singapore)         69312.404\n",
      "Sydney <-> Los Angeles (USA)             68730.618\n",
      "Perth <-> Singapore (Singapore)          53565.240\n",
      "Sydney <-> Hong Kong (Hong Kong)         51612.532\n",
      "Melbourne <-> Singapore (Singapore)      49391.343\n",
      "Melbourne <-> Auckland (New Zealand)     42042.812\n",
      "Melbourne <-> Hong Kong (Hong Kong)      39495.266\n",
      "Melbourne <-> Los Angeles (USA)          33606.389\n",
      "Name: Freight_Total_(tonnes), dtype: float64\n",
      "top mail routes\n",
      "Route\n",
      "Sydney <-> Auckland (New Zealand)             3280.777\n",
      "Sydney <-> London (UK)                        2709.269\n",
      "Sydney <-> Tokyo (Japan)                      2423.636\n",
      "Sydney <-> San Francisco (USA)                2127.115\n",
      "Melbourne <-> London (UK)                     1780.704\n",
      "Sydney <-> Frankfurt (Germany)                1320.121\n",
      "Sydney <-> Port Moresby (Papua New Guinea)    1220.215\n",
      "Melbourne <-> Frankfurt (Germany)             1201.324\n",
      "Melbourne <-> San Francisco (USA)             1160.366\n",
      "Sydney <-> Singapore (Singapore)              1147.666\n",
      "Name: Mail_Total_(tonnes), dtype: float64\n"
     ]
    }
   ],
   "execution_count": 11
  },
  {
   "metadata": {
    "ExecuteTime": {
     "end_time": "2025-08-17T16:39:03.554986Z",
     "start_time": "2025-08-17T16:39:03.546019Z"
    }
   },
   "cell_type": "code",
   "source": [
    "# 1a: least trafficked routes\n",
    "numRoutes = 10\n",
    "top_routes_passengers = df.groupby('Route')['Passengers_Total'].sum().sort_values(ascending=True).head(numRoutes)\n",
    "top_routes_freight = df.groupby('Route')['Freight_Total_(tonnes)'].sum().sort_values(ascending=True).head(numRoutes)\n",
    "top_routes_mail = df.groupby('Route')['Mail_Total_(tonnes)'].sum().sort_values(ascending=True).head(numRoutes)\n",
    "print(\"bottom passenger routes\")\n",
    "print(top_routes_passengers)\n",
    "print(\"bottom freight routes\")\n",
    "print(top_routes_freight)\n",
    "print(\"bottom mail routes\")\n",
    "print(top_routes_mail)"
   ],
   "id": "aa2813e953f36120",
   "outputs": [
    {
     "name": "stdout",
     "output_type": "stream",
     "text": [
      "bottom passenger routes\n",
      "Route\n",
      "Melbourne <-> Denver (USA)                0\n",
      "Brisbane <-> Colombo (Sri Lanka)          0\n",
      "Brisbane <-> Chicago (USA)                0\n",
      "Perth <-> Bandar Seri Begawan (Brunei)    0\n",
      "Adelaide <-> Harare (Zimbabwe)            0\n",
      "Townsville <-> San Francisco (USA)        1\n",
      "Cairns <-> Honiara (Solomon Islands)      1\n",
      "Darwin <-> Zagreb (Yugoslavia)            1\n",
      "Hobart <-> Tokyo (Japan)                  1\n",
      "Hobart <-> Los Angeles (USA)              2\n",
      "Name: Passengers_Total, dtype: int64\n",
      "bottom freight routes\n",
      "Route\n",
      "Townsville <-> Zagreb (Yugoslavia)     0.0\n",
      "Darwin <-> Kuala Lumpur (Malaysia)     0.0\n",
      "Darwin <-> Copenhagen (Denmark)        0.0\n",
      "Darwin <-> Bombay (India)              0.0\n",
      "Darwin <-> Belgrade (Yugoslavia)       0.0\n",
      "Sydney <-> Ljubljana (Yugoslavia)      0.0\n",
      "Cairns <-> Wellington (New Zealand)    0.0\n",
      "Cairns <-> Papeete (Tahiti)            0.0\n",
      "Cairns <-> Nagoya (Japan)              0.0\n",
      "Cairns <-> Manchester (UK)             0.0\n",
      "Name: Freight_Total_(tonnes), dtype: float64\n",
      "bottom mail routes\n",
      "Route\n",
      "Adelaide <-> Abu Dhabi (United Arab Emirates)    0.0\n",
      "Hobart <-> Manila (Philippines)                  0.0\n",
      "Hobart <-> San Francisco (USA)                   0.0\n",
      "Hobart <-> Singapore (Singapore)                 0.0\n",
      "Hobart <-> Tokyo (Japan)                         0.0\n",
      "Melbourne <-> Bandar Seri Begawan (Brunei)       0.0\n",
      "Melbourne <-> Beijing (China)                    0.0\n",
      "Melbourne <-> Buenos Aires (Argentina)           0.0\n",
      "Melbourne <-> Copenhagen (Denmark)               0.0\n",
      "Melbourne <-> Denver (USA)                       0.0\n",
      "Name: Mail_Total_(tonnes), dtype: float64\n"
     ]
    }
   ],
   "execution_count": 12
  },
  {
   "metadata": {},
   "cell_type": "code",
   "outputs": [],
   "execution_count": null,
   "source": "",
   "id": "e9c6b809acf3294f"
  }
 ],
 "metadata": {
  "kernelspec": {
   "display_name": "Python 3",
   "language": "python",
   "name": "python3"
  },
  "language_info": {
   "codemirror_mode": {
    "name": "ipython",
    "version": 2
   },
   "file_extension": ".py",
   "mimetype": "text/x-python",
   "name": "python",
   "nbconvert_exporter": "python",
   "pygments_lexer": "ipython2",
   "version": "2.7.6"
  }
 },
 "nbformat": 4,
 "nbformat_minor": 5
}
